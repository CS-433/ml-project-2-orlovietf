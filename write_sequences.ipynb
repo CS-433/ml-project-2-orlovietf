{
 "cells": [
  {
   "cell_type": "code",
   "execution_count": 2,
   "id": "c75155a0-af02-4fce-8179-fc650c1358b0",
   "metadata": {},
   "outputs": [],
   "source": [
    "import pandas as pd"
   ]
  },
  {
   "cell_type": "code",
   "execution_count": 17,
   "id": "5230afac-e5b5-4805-bcd1-8cf26ef4aa4d",
   "metadata": {},
   "outputs": [],
   "source": [
    "df = pd.read_csv(\"train.csv\")\n",
    "for k,row in df.iterrows():\n",
    "    entry = row.to_dict()\n",
    "    with open(\"seqs/{}.fasta\".format(entry['seq_id']), 'w') as fs:\n",
    "        fs.write(\"> seq_id:{}, pH:{}, data_source:{}, tm:{}\\n\".format(entry['seq_id'], entry['pH'], entry['data_source'], entry['tm']))\n",
    "        fs.write(entry['protein_sequence'])"
   ]
  },
  {
   "cell_type": "code",
   "execution_count": 5,
   "id": "537c62ac-6b48-48d9-8950-05c7708a9adb",
   "metadata": {},
   "outputs": [],
   "source": [
    "df = pd.read_csv(\"test.csv\")\n",
    "for k,row in df.iterrows():\n",
    "    entry = row.to_dict()\n",
    "    with open(\"seqs_test/{}.fasta\".format(entry['seq_id']), 'w') as fs:\n",
    "        fs.write(\"> seq_id:{}, pH:{}, data_source:{}\\n\".format(entry['seq_id'], entry['pH'], entry['data_source']))\n",
    "        fs.write(entry['protein_sequence'])"
   ]
  },
  {
   "cell_type": "code",
   "execution_count": null,
   "id": "1f381fbd-4388-4873-9755-1e64113e30b9",
   "metadata": {},
   "outputs": [],
   "source": []
  },
  {
   "cell_type": "code",
   "execution_count": null,
   "id": "c3f4d939-69aa-4396-8755-cb87cabfd722",
   "metadata": {},
   "outputs": [],
   "source": []
  }
 ],
 "metadata": {
  "kernelspec": {
   "display_name": "pesto",
   "language": "python",
   "name": "pesto"
  },
  "language_info": {
   "codemirror_mode": {
    "name": "ipython",
    "version": 3
   },
   "file_extension": ".py",
   "mimetype": "text/x-python",
   "name": "python",
   "nbconvert_exporter": "python",
   "pygments_lexer": "ipython3",
   "version": "3.9.13"
  }
 },
 "nbformat": 4,
 "nbformat_minor": 5
}

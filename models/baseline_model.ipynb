{
 "cells": [
  {
   "cell_type": "code",
   "execution_count": 25,
   "metadata": {},
   "outputs": [],
   "source": [
    "from transformers import AutoTokenizer\n",
    "from sklearn.model_selection import train_test_split\n",
    "import torch\n",
    "import pandas as pd\n",
    "from torch.utils.data import DataLoader, Dataset\n",
    "from transformers import AutoModel\n",
    "import torch.nn as nn"
   ]
  },
  {
   "cell_type": "code",
   "execution_count": 26,
   "metadata": {},
   "outputs": [],
   "source": [
    "device = torch.device(\"cuda\" if torch.cuda.is_available() else \"cpu\")\n",
    "\n",
    "df = pd.read_csv(\"../train_updated.csv\")\n",
    "\n",
    "sequences = df[\"protein_sequence\"].tolist()\n",
    "tm = df[\"tm\"].values\n",
    "\n",
    "train_sequences, test_sequences, train_tm, test_tm = train_test_split(sequences, tm, test_size=0.2, shuffle=True, random_state=42)"
   ]
  },
  {
   "cell_type": "code",
   "execution_count": 27,
   "metadata": {},
   "outputs": [],
   "source": [
    "model_checkpoint = \"facebook/esm2_t6_8M_UR50D\"\n",
    "\n",
    "tokenizer = AutoTokenizer.from_pretrained(model_checkpoint)\n",
    "\n",
    "train_tokenized = tokenizer(train_sequences, max_length=512, padding=\"max_length\", truncation=True, return_tensors=\"pt\")\n",
    "test_tokenized = tokenizer(test_sequences, max_length=512, padding=\"max_length\", truncation=True, return_tensors=\"pt\")"
   ]
  },
  {
   "cell_type": "code",
   "execution_count": 28,
   "metadata": {},
   "outputs": [
    {
     "name": "stdout",
     "output_type": "stream",
     "text": [
      "2898 725 23184 5797\n"
     ]
    }
   ],
   "source": [
    "class ProteinDataset(Dataset):\n",
    "    def __init__(self, sequences, tm):\n",
    "        self.input_ids = sequences[\"input_ids\"]\n",
    "        self.attention_mask = sequences[\"attention_mask\"]\n",
    "        self.tm = tm\n",
    "\n",
    "    def __len__(self):\n",
    "        return len(self.input_ids)\n",
    "\n",
    "    def __getitem__(self, idx):\n",
    "        return {\n",
    "            \"input_ids\": self.input_ids[idx],\n",
    "            \"attention_mask\": self.attention_mask[idx],\n",
    "            \"tm\": self.tm[idx]\n",
    "        }\n",
    "    \n",
    "train_dataset = ProteinDataset(train_tokenized, train_tm)\n",
    "test_dataset = ProteinDataset(test_tokenized, test_tm)\n",
    "\n",
    "train_loader = DataLoader(train_dataset, batch_size=8, shuffle=True)\n",
    "test_loader = DataLoader(test_dataset, batch_size=8, shuffle=False)\n",
    "\n",
    "print(len(train_loader), len(test_loader), len(train_dataset), len(test_dataset))"
   ]
  },
  {
   "cell_type": "code",
   "execution_count": 29,
   "metadata": {},
   "outputs": [
    {
     "name": "stderr",
     "output_type": "stream",
     "text": [
      "Some weights of EsmModel were not initialized from the model checkpoint at facebook/esm2_t6_8M_UR50D and are newly initialized: ['esm.pooler.dense.bias', 'esm.pooler.dense.weight']\n",
      "You should probably TRAIN this model on a down-stream task to be able to use it for predictions and inference.\n"
     ]
    }
   ],
   "source": [
    "class ProteinModel(nn.Module):\n",
    "    def __init__(self, model_checkpoint):\n",
    "        super(ProteinModel, self).__init__()\n",
    "        self.model = AutoModel.from_pretrained(model_checkpoint)\n",
    "        self.fc = nn.Linear(320, 1)\n",
    "\n",
    "    def forward(self, input_ids, attention_mask):\n",
    "        outputs = self.model(input_ids=input_ids, attention_mask=attention_mask)\n",
    "        last_hidden_state = outputs.last_hidden_state\n",
    "        cls_token = last_hidden_state[:, 0, :]\n",
    "        out = self.fc(cls_token)\n",
    "        return out\n",
    "    \n",
    "model = ProteinModel(model_checkpoint).to(device)"
   ]
  },
  {
   "cell_type": "code",
   "execution_count": null,
   "metadata": {},
   "outputs": [
    {
     "name": "stdout",
     "output_type": "stream",
     "text": [
      "Epoch 1, Loss: 282.7626096449227\n"
     ]
    }
   ],
   "source": [
    "criterion = nn.MSELoss()\n",
    "optimizer = torch.optim.AdamW(model.parameters(), lr=5e-5)\n",
    "\n",
    "for epoch in range(5):\n",
    "    model.train()\n",
    "    for batch in train_loader:\n",
    "        input_ids = batch[\"input_ids\"].to(device)\n",
    "        attention_mask = batch[\"attention_mask\"].to(device)\n",
    "        tm = batch[\"tm\"].float().to(device)\n",
    "        \n",
    "        optimizer.zero_grad()\n",
    "        outputs = model(input_ids, attention_mask)\n",
    "        loss = criterion(outputs.squeeze(1), tm)\n",
    "        loss.backward()\n",
    "        optimizer.step()\n",
    "        \n",
    "    model.eval()\n",
    "    with torch.no_grad():\n",
    "        total_loss = 0\n",
    "        for batch in test_loader:\n",
    "            input_ids = batch[\"input_ids\"].to(device)\n",
    "            attention_mask = batch[\"attention_mask\"].to(device)\n",
    "            tm = batch[\"tm\"].float().to(device)\n",
    "            \n",
    "            outputs = model(input_ids, attention_mask)\n",
    "            loss = criterion(outputs.squeeze(1), tm)\n",
    "            total_loss += loss.item()\n",
    "            \n",
    "    print(f\"Epoch {epoch+1}, Loss: {total_loss/len(test_loader)}\")"
   ]
  },
  {
   "cell_type": "code",
   "execution_count": null,
   "metadata": {},
   "outputs": [
    {
     "name": "stdout",
     "output_type": "stream",
     "text": [
      "Validation Correlation Loss: 0.7463\n"
     ]
    }
   ],
   "source": [
    "def correlation(predictions, targets):\n",
    "    # Flatten inputs to 1D tensors\n",
    "    predictions = predictions.flatten()\n",
    "    targets = targets.flatten()\n",
    "    \n",
    "    # Compute means\n",
    "    pred_mean = predictions.mean()\n",
    "    target_mean = targets.mean()\n",
    "    \n",
    "    # Compute covariance\n",
    "    covariance = ((predictions - pred_mean) * (targets - target_mean)).mean()\n",
    "    \n",
    "    # Compute standard deviations\n",
    "    pred_std = predictions.std()\n",
    "    target_std = targets.std()\n",
    "    \n",
    "    # Compute Pearson correlation\n",
    "    correlation = covariance / (pred_std * target_std + 1e-8)  # Add small epsilon to avoid division by zero\n",
    "    \n",
    "    return correlation\n",
    "\n",
    "# Compute correlation loss on validation set\n",
    "model.eval()  # Ensure model is in evaluation mode\n",
    "all_predictions = []\n",
    "all_labels = []\n",
    "with torch.no_grad():\n",
    "    for batch in test_loader:\n",
    "        input_ids = batch[\"input_ids\"].to(device)\n",
    "        attention_mask = batch[\"attention_mask\"].to(device)\n",
    "        tm = batch[\"tm\"].float().to(device)\n",
    "        \n",
    "        all_predictions.append(model(input_ids, attention_mask))\n",
    "        all_labels.append(tm)\n",
    "\n",
    "all_predictions = torch.cat(all_predictions, dim=0)\n",
    "all_labels = torch.cat(all_labels, dim=0)\n",
    "\n",
    "# Compute the total loss on the entire validation dataset\n",
    "val_loss = correlation(all_predictions, all_labels).item()\n",
    "\n",
    "print(f\"Validation Correlation Loss: {val_loss:.4f}\")"
   ]
  },
  {
   "cell_type": "code",
   "execution_count": null,
   "metadata": {},
   "outputs": [
    {
     "name": "stdout",
     "output_type": "stream",
     "text": [
      "0.5564864942596712\n"
     ]
    }
   ],
   "source": [
    "from scipy.stats import spearmanr\n",
    "\n",
    "print(spearmanr(all_predictions.cpu(), all_labels.cpu()).correlation)"
   ]
  },
  {
   "cell_type": "code",
   "execution_count": null,
   "metadata": {},
   "outputs": [],
   "source": [
    "torch.save(model.state_dict(), \"../model_weights/esm2.pth\")"
   ]
  }
 ],
 "metadata": {
  "kernelspec": {
   "display_name": "base",
   "language": "python",
   "name": "python3"
  },
  "language_info": {
   "codemirror_mode": {
    "name": "ipython",
    "version": 3
   },
   "file_extension": ".py",
   "mimetype": "text/x-python",
   "name": "python",
   "nbconvert_exporter": "python",
   "pygments_lexer": "ipython3",
   "version": "3.12.7"
  }
 },
 "nbformat": 4,
 "nbformat_minor": 2
}
